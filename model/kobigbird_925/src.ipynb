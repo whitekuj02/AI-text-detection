{
 "cells": [
  {
   "cell_type": "code",
   "execution_count": null,
   "metadata": {},
   "outputs": [],
   "source": [
    "import torch\n",
    "from torch.utils.data import Dataset, DataLoader\n",
    "import pandas as pd\n",
    "import random\n",
    "import numpy as np\n",
    "import torch.nn as nn\n",
    "from transformers import AutoTokenizer, AutoModelForSequenceClassification, LongformerForSequenceClassification, LongformerTokenizer, DebertaV2ForSequenceClassification\n",
    "from peft import prepare_model_for_kbit_training, LoraConfig, get_peft_model\n",
    "from peft import PeftModel, PeftConfig\n",
    "from transformers import Trainer, TrainingArguments\n",
    "from sklearn.model_selection import train_test_split\n",
    "from sklearn.metrics import accuracy_score, precision_recall_fscore_support, roc_auc_score\n",
    "import torch.nn.functional as F\n",
    "import os\n",
    "from tqdm import tqdm"
   ]
  },
  {
   "cell_type": "code",
   "execution_count": 3,
   "metadata": {},
   "outputs": [],
   "source": [
    "CONFIG = {\n",
    "    \"data_base\": \"../../data\",\n",
    "}"
   ]
  },
  {
   "cell_type": "code",
   "execution_count": null,
   "metadata": {},
   "outputs": [],
   "source": [
    "train_csv = pd.read_csv(f\"{CONFIG['data_base']}/final_aug_train.csv\")\n",
    "test_csv = pd.read_csv(f\"{CONFIG['data_base']}/test.csv\")\n",
    "\n",
    "test_csv = test_csv.rename(columns={\n",
    "    'paragraph_text': 'full_text'\n",
    "    })\n",
    "\n",
    "train_csv.head()"
   ]
  },
  {
   "cell_type": "code",
   "execution_count": null,
   "metadata": {},
   "outputs": [],
   "source": [
    "label_0 = train_csv[train_csv['generated'] == 0]\n",
    "label_1 = train_csv[train_csv['generated'] == 1]\n",
    "count = min(len(label_0), len(label_1))\n",
    "sampled_0 = label_0.sample(n=6*count, random_state=42)\n",
    "sampled_1 = label_1.sample(n=count, random_state=42)\n",
    "train_csv = pd.concat([sampled_0, sampled_1]).sample(frac=1, random_state=42).reset_index(drop=True)\n",
    "print(f\"✅ 샘플링 완료: 총 {len(train_csv)}개\")\n",
    "print(train_csv[\"generated\"].value_counts())"
   ]
  },
  {
   "cell_type": "code",
   "execution_count": 6,
   "metadata": {},
   "outputs": [],
   "source": [
    "train_df, val_df = train_test_split(\n",
    "    train_csv,\n",
    "    test_size=0.01,\n",
    "    random_state=42,\n",
    "    stratify=train_csv['generated']\n",
    ")"
   ]
  },
  {
   "cell_type": "code",
   "execution_count": 7,
   "metadata": {},
   "outputs": [],
   "source": [
    "class CustomDataset(Dataset):\n",
    "    def __init__(self, data_df, tokenizer, mode='train'):\n",
    "        self.data = data_df.reset_index(drop=True)\n",
    "        self.tokenizer = tokenizer\n",
    "        self.mode = mode\n",
    "\n",
    "    def __len__(self):\n",
    "        return len(self.data)\n",
    "\n",
    "    def __getitem__(self, idx):\n",
    "        row = self.data.iloc[idx]\n",
    "        text = row['full_text']\n",
    "        inputs = self.tokenizer(\n",
    "            text, truncation=True, padding='max_length', max_length=512,\n",
    "            stride=256, return_overflowing_tokens=True, return_tensors=\"pt\"\n",
    "        )\n",
    "        n_segments = inputs[\"input_ids\"].size(0)\n",
    "        seg_idx = random.randint(0, n_segments - 1)\n",
    "        item = {k: v[seg_idx] for k, v in inputs.items() if k != \"overflow_to_sample_mapping\"}\n",
    "        item.pop(\"token_type_ids\", None)\n",
    "        if self.mode == 'train':\n",
    "            item[\"labels\"] = int(row[\"generated\"])\n",
    "        return item"
   ]
  },
  {
   "cell_type": "code",
   "execution_count": 8,
   "metadata": {},
   "outputs": [],
   "source": [
    "tokenizer = AutoTokenizer.from_pretrained('vaiv/kobigbird-roberta-large')\n",
    "train_dataset = CustomDataset(train_df, tokenizer, mode='train')\n",
    "val_dataset = CustomDataset(val_df, tokenizer, mode='train')\n",
    "test_dataset = CustomDataset(test_csv, tokenizer, mode='eval')"
   ]
  },
  {
   "cell_type": "code",
   "execution_count": null,
   "metadata": {},
   "outputs": [],
   "source": [
    "device = \"cuda\" if torch.cuda.is_available() else \"cpu\"\n",
    "base_model = AutoModelForSequenceClassification.from_pretrained(\n",
    "    \"vaiv/kobigbird-roberta-large\",\n",
    "    num_labels=2\n",
    ")\n",
    "base_model = prepare_model_for_kbit_training(base_model)\n",
    "lora_config = LoraConfig(\n",
    "    r=8, lora_alpha=32, target_modules=[\"query\", \"value\"],\n",
    "    lora_dropout=0.1, bias=\"none\", task_type=\"SEQ_CLS\"\n",
    ")\n",
    "model = get_peft_model(base_model, lora_config)\n",
    "model"
   ]
  },
  {
   "cell_type": "code",
   "execution_count": 10,
   "metadata": {},
   "outputs": [],
   "source": [
    "def compute_metrics(pred):\n",
    "    labels = pred.label_ids\n",
    "    preds = pred.predictions.argmax(-1)\n",
    "    precision, recall, f1, _ = precision_recall_fscore_support(labels, preds, average='binary')\n",
    "    acc = accuracy_score(labels, preds)\n",
    "    auc = roc_auc_score(labels, preds)\n",
    "    return {'accuracy': acc, 'f1': f1, 'precision': precision, 'recall': recall, 'auroc': auc}\n"
   ]
  },
  {
   "cell_type": "code",
   "execution_count": 11,
   "metadata": {},
   "outputs": [],
   "source": [
    "class WeightedTrainer(Trainer):\n",
    "    def compute_loss(self, model, inputs, return_outputs=False, **kwargs):\n",
    "        labels = inputs.pop(\"labels\")\n",
    "        outputs = model(**inputs)\n",
    "        logits = outputs.logits\n",
    "        class_weights = torch.tensor([1.0, 6.0], device=logits.device)\n",
    "        example_weights = class_weights[labels]\n",
    "        loss_fct = nn.CrossEntropyLoss(weight=class_weights)\n",
    "        loss = loss_fct(logits.view(-1, self.model.config.num_labels), labels.view(-1))\n",
    "        # 이 부분은 WeightedTrainer를 사용하신다면 원래 로직을 따르셔도 됩니다.\n",
    "        # 위 코드는 더 간결한 가중치 적용 방식입니다.\n",
    "        return (loss, outputs) if return_outputs else loss\n"
   ]
  },
  {
   "cell_type": "code",
   "execution_count": null,
   "metadata": {},
   "outputs": [],
   "source": [
    "training_args = TrainingArguments(\n",
    "    output_dir=\"./\",\n",
    "    per_device_train_batch_size=4,\n",
    "    per_device_eval_batch_size=4,\n",
    "    num_train_epochs=1,\n",
    "    max_steps=300000,\n",
    "    learning_rate=5e-5,\n",
    "    eval_strategy=\"steps\",\n",
    "    save_strategy=\"steps\",\n",
    "    save_steps=10000,\n",
    "    logging_dir=\"./\",\n",
    "    logging_steps=10000,\n",
    "    fp16=True,\n",
    "    report_to=\"none\"\n",
    ")\n",
    "\n",
    "trainer = WeightedTrainer(\n",
    "    model=model, args=training_args, train_dataset=train_dataset,\n",
    "    eval_dataset=val_dataset, tokenizer=tokenizer, compute_metrics=compute_metrics,\n",
    ")\n",
    "\n",
    "trainer.train()"
   ]
  },
  {
   "cell_type": "code",
   "execution_count": null,
   "metadata": {},
   "outputs": [],
   "source": [
    "checkpoint_path = \"./checkpoint-280000\"\n",
    "print(f\"✅ {checkpoint_path}에서 모델을 불러옵니다.\")\n",
    "model = AutoModelForSequenceClassification.from_pretrained(checkpoint_path)\n",
    "model.to(\"cuda\" if torch.cuda.is_available() else \"cpu\")\n",
    "model.eval()\n",
    "\n",
    "all_probs = []\n",
    "valid_keys = {\"input_ids\", \"attention_mask\"}\n",
    "\n",
    "print(\"✅ 추론을 시작합니다.\")\n",
    "with torch.no_grad():\n",
    "    for i in tqdm(range(len(test_dataset)), desc=\"Running Inference\"):\n",
    "        batch = test_dataset[i]\n",
    "        inputs = {k: v.unsqueeze(0).to(model.device) for k, v in batch.items() if k in valid_keys}\n",
    "        \n",
    "        outputs = model(**inputs)\n",
    "        logits = outputs.logits\n",
    "        probs = torch.softmax(logits, dim=-1)\n",
    "        all_probs.extend(probs.cpu().tolist())\n",
    "\n",
    "# --- 5. 제출 파일 생성 ---\n",
    "sample_submission = pd.read_csv(f\"{CONFIG['data_base']}/sample_submission.csv\")\n",
    "# 'AI가 생성한 글'일 확률은 두 번째 컬럼(인덱스 1)\n",
    "all_AI_probs = [p[1] for p in all_probs]\n",
    "sample_submission['generated'] = all_AI_probs\n",
    "sample_submission.to_csv(f\"submit_.csv\", index=False)\n",
    "\n",
    "print(\"✅ 제출 파일 생성이 완료되었습니다.\")"
   ]
  }
 ],
 "metadata": {
  "kernelspec": {
   "display_name": "construct",
   "language": "python",
   "name": "python3"
  },
  "language_info": {
   "codemirror_mode": {
    "name": "ipython",
    "version": 3
   },
   "file_extension": ".py",
   "mimetype": "text/x-python",
   "name": "python",
   "nbconvert_exporter": "python",
   "pygments_lexer": "ipython3",
   "version": "3.11.4"
  }
 },
 "nbformat": 4,
 "nbformat_minor": 2
}
