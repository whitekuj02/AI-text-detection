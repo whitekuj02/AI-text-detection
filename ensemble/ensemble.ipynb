{
 "cells": [
  {
   "cell_type": "code",
   "execution_count": 5,
   "metadata": {},
   "outputs": [],
   "source": [
    "import os\n",
    "import pandas as pd\n",
    "import numpy as np\n",
    "from scipy.stats import rankdata\n",
    "import matplotlib.pyplot as plt"
   ]
  },
  {
   "cell_type": "code",
   "execution_count": null,
   "metadata": {},
   "outputs": [],
   "source": [
    "# 파일 리스트 (원하는 파일명으로 바꿔주세요)\n",
    "file_paths = [\n",
    "    \"../model/kobigbird_925/submit.csv\", # 0.907\n",
    "    \"../model/roberta-large_929/submit.csv\", # 0.914\n",
    "    \"../model/koelectra_924/submit.csv\"\n",
    "]\n",
    "\n",
    "# 모델별 가중치 (예: AUC 기반 or 신뢰도 기반)\n",
    "model_aucs = [1, 1, 1]\n",
    "min_auc = min(model_aucs)\n",
    "weights = [round((auc - min_auc) * 100) + 1 for auc in model_aucs]\n",
    "weights = [ i / sum(weights) for i in weights]\n",
    "\n",
    "# CSV 읽고 열 이름 변경\n",
    "dfs = [\n",
    "    pd.read_csv(path).rename(columns={\"generated\": f\"generate_{i}\"})\n",
    "    for i, path in enumerate(file_paths)\n",
    "]\n",
    "\n",
    "# ID 기준 병합\n",
    "merged = dfs[0]\n",
    "for df in dfs[1:]:\n",
    "    merged = pd.merge(merged, df, on=\"ID\")\n",
    "\n",
    "# Soft Voting with Weights\n",
    "generate_cols = [col for col in merged.columns if col.startswith(\"generate_\")]\n",
    "weighted_sum = sum(merged[generate_cols[i]] * weights[i] for i in range(len(generate_cols)))\n",
    "merged[\"generated\"] = weighted_sum\n",
    "\n",
    "# 결과 저장\n",
    "final_df = merged[[\"ID\", \"generated\"]]\n",
    "final_df.to_csv(\"./ensemble.csv\", index=False)\n",
    "\n",
    "print(\"✅ Soft voting with weights 완료!\")\n",
    "print(final_df.head())"
   ]
  },
  {
   "cell_type": "code",
   "execution_count": null,
   "metadata": {},
   "outputs": [],
   "source": [
    "# CSV 파일 경로\n",
    "csv1_path = \"./ensemble_933.csv\"\n",
    "csv2_path = \"./ensemble.csv\"\n",
    "\n",
    "# 파일 로드\n",
    "df1 = pd.read_csv(csv1_path).sort_values(\"ID\").reset_index(drop=True)\n",
    "df2 = pd.read_csv(csv2_path).sort_values(\"ID\").reset_index(drop=True)\n",
    "\n",
    "# 두 파일 모두 'ID'와 'score' (또는 확률) 컬럼이 있다고 가정\n",
    "score_col1 = df1.columns[1]  # ex) \"prob\"\n",
    "score_col2 = df2.columns[1]\n",
    "\n",
    "# 각 모델의 score → rank 변환 (0~1로 정규화)\n",
    "df1[\"rank1\"] = rankdata(df1[score_col1], method=\"average\") / len(df1)\n",
    "df2[\"rank2\"] = rankdata(df2[score_col2], method=\"average\") / len(df2)\n",
    "\n",
    "# ID 기준 병합\n",
    "merged = pd.merge(df1[[\"ID\", \"rank1\"]], df2[[\"ID\", \"rank2\"]], on=\"ID\")\n",
    "\n",
    "# rank 차이 계산\n",
    "merged[\"rank_diff\"] = (merged[\"rank1\"] - merged[\"rank2\"]).abs()\n",
    "\n",
    "# 결과 확인\n",
    "print(merged.head())\n",
    "print(\"평균 rank 차이:\", merged[\"rank_diff\"].mean())\n"
   ]
  },
  {
   "cell_type": "code",
   "execution_count": null,
   "metadata": {},
   "outputs": [],
   "source": [
    "# CSV 로드\n",
    "df1 = pd.read_csv(csv1_path).sort_values(\"ID\").reset_index(drop=True)\n",
    "df2 = pd.read_csv(csv2_path).sort_values(\"ID\").reset_index(drop=True)\n",
    "\n",
    "score_col1 = df1.columns[1]  # 확률 값 컬럼\n",
    "score_col2 = df2.columns[1]\n",
    "\n",
    "# 순위 변환\n",
    "df1[\"rank1\"] = rankdata(df1[score_col1], method=\"average\")\n",
    "df2[\"rank2\"] = rankdata(df2[score_col2], method=\"average\")\n",
    "\n",
    "# 각 모델의 정렬 순서 → ID 순서 리스트\n",
    "rank_order1 = df1.sort_values(\"rank1\")[\"ID\"].tolist()\n",
    "rank_order2 = df2.sort_values(\"rank2\")[\"ID\"].tolist()\n",
    "\n",
    "# ID → index (순위) 매핑\n",
    "rank_pos1 = {id_: i for i, id_ in enumerate(rank_order1)}\n",
    "rank_pos2 = {id_: i for i, id_ in enumerate(rank_order2)}\n",
    "\n",
    "# 같은 ID에 대해 순위 차 계산\n",
    "rank_changes = []\n",
    "for id_ in rank_pos1:\n",
    "    diff = abs(rank_pos1[id_] - rank_pos2[id_])\n",
    "    rank_changes.append((id_, rank_pos1[id_], rank_pos2[id_], diff))\n",
    "\n",
    "# 결과 DataFrame\n",
    "rank_diff_df = pd.DataFrame(rank_changes, columns=[\"ID\", \"rank1\", \"rank2\", \"abs_diff\"])\n",
    "rank_diff_df = rank_diff_df.sort_values(\"abs_diff\", ascending=False)\n",
    "\n",
    "\n",
    "# 상위 변화 큰 샘플 보기\n",
    "print(rank_diff_df.head(10))\n"
   ]
  },
  {
   "cell_type": "code",
   "execution_count": null,
   "metadata": {},
   "outputs": [],
   "source": [
    "plt.plot(rank_diff_df[\"rank1\"], rank_diff_df[\"rank2\"], '.', alpha=0.6)\n",
    "plt.xlabel(\"Model 1 Rank\")\n",
    "plt.ylabel(\"Model 2 Rank\")\n",
    "plt.title(\"Rank Comparison\")\n",
    "plt.grid(True)\n",
    "plt.show()"
   ]
  }
 ],
 "metadata": {
  "kernelspec": {
   "display_name": "construct",
   "language": "python",
   "name": "python3"
  },
  "language_info": {
   "codemirror_mode": {
    "name": "ipython",
    "version": 3
   },
   "file_extension": ".py",
   "mimetype": "text/x-python",
   "name": "python",
   "nbconvert_exporter": "python",
   "pygments_lexer": "ipython3",
   "version": "3.11.4"
  }
 },
 "nbformat": 4,
 "nbformat_minor": 2
}
