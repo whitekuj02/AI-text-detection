{
 "cells": [
  {
   "cell_type": "code",
   "execution_count": 9,
   "id": "332d08cd",
   "metadata": {},
   "outputs": [
    {
     "name": "stdout",
     "output_type": "stream",
     "text": [
      "🔍 탐색된 파일:\n",
      " - aug_0.csv\n",
      " - aug_1.csv\n",
      " - aug_10.csv\n",
      " - aug_11.csv\n",
      " - aug_2.csv\n",
      " - aug_3.csv\n",
      " - aug_4.csv\n",
      " - aug_5.csv\n",
      " - aug_6.csv\n",
      " - aug_7.csv\n",
      " - aug_8.csv\n",
      " - aug_9.csv\n",
      "=========================================\n",
      "기존 데이터: 총 1225100개\n",
      "generated\n",
      "label 0    1181818\n",
      "label 1      43282\n",
      "Name: count, dtype: int64\n",
      "\n",
      "추가된 증강 데이터: 총 12018개\n",
      "generated\n",
      "label 1    12018\n",
      "Name: count, dtype: int64\n",
      "\n",
      "병합 후 전체: 총 1237118개\n",
      "generated\n",
      "label 0    1181818\n",
      "label 1      55300\n",
      "Name: count, dtype: int64\n",
      "\n"
     ]
    }
   ],
   "source": [
    "import pandas as pd\n",
    "import re\n",
    "from pathlib import Path\n",
    "\n",
    "base_path = Path(\"../data\")\n",
    "aug_path = Path(\"./augmentation_data\")\n",
    "\n",
    "# aug_ 또는 gemma_로 시작하는 파일\n",
    "target_files = sorted([\n",
    "    f for f in aug_path.glob(\"*.csv\")\n",
    "    if re.match(r\"^(aug_|gemma_|).*\\.csv$\", f.name)\n",
    "])\n",
    "\n",
    "print(\"🔍 탐색된 파일:\")\n",
    "for f in target_files:\n",
    "    print(f\" - {f.name}\")\n",
    "\n",
    "base_df = pd.read_csv(base_path / \"pseudo_labeling.csv\")\n",
    "aug_dfs = [pd.read_csv(f) for f in target_files]\n",
    "aug_df = pd.concat(aug_dfs, ignore_index=True)\n",
    "\n",
    "merged_df = pd.concat([base_df, aug_df], ignore_index=True).reset_index(drop=True)\n",
    "merged_df.to_csv(base_path / \"final_aug_train.csv\", index=False)\n",
    "\n",
    "def print_stats(df, title):\n",
    "    counts = df['generated'].value_counts().sort_index()\n",
    "    print(f\"{title}: 총 {len(df)}개\")\n",
    "    print(counts.rename(lambda x: f\"label {x}\"))\n",
    "    print()\n",
    "\n",
    "# --- 출력 ---\n",
    "print(\"=========================================\")\n",
    "print_stats(base_df, \"기존 데이터\")\n",
    "print_stats(aug_df,  \"추가된 증강 데이터\")\n",
    "print_stats(merged_df, \"병합 후 전체\")\n"
   ]
  },
  {
   "cell_type": "code",
   "execution_count": 10,
   "id": "f5d16eab",
   "metadata": {},
   "outputs": [
    {
     "name": "stdout",
     "output_type": "stream",
     "text": [
      "원본 merged_df 통계\n",
      "데이터 개수       : 1237118\n",
      "평균 text 길이    : 180.63\n",
      "가장 긴 text 길이 : 19124\n",
      "가장 짧은 text 길이 : 5\n",
      "\n",
      "======================================\n",
      "필터링 후 통계\n",
      "데이터 개수       : 1146270\n",
      "평균 text 길이    : 193.35\n",
      "가장 긴 text 길이 : 19124\n",
      "가장 짧은 text 길이 : 30\n",
      "\n"
     ]
    }
   ],
   "source": [
    "import pandas as pd\n",
    "from pathlib import Path\n",
    "\n",
    "# --- 경로 설정 ---\n",
    "save_path = base_path / \"final_aug_train.csv\"\n",
    "\n",
    "merged_df = pd.read_csv(base_path / \"final_aug_train.csv\")\n",
    "\n",
    "def print_length_stats(df, title):\n",
    "    lengths = df[\"full_text\"].str.len()\n",
    "    print(f\"{title}\")\n",
    "    print(f\"데이터 개수       : {len(df)}\")\n",
    "    print(f\"평균 text 길이    : {lengths.mean():.2f}\")\n",
    "    print(f\"가장 긴 text 길이 : {lengths.max()}\")\n",
    "    print(f\"가장 짧은 text 길이 : {lengths.min()}\\n\")\n",
    "\n",
    "\n",
    "print_length_stats(merged_df, \"원본 merged_df 통계\")\n",
    "\n",
    "filtered_df = merged_df.copy()\n",
    "filtered_df[\"text_length\"] = filtered_df[\"full_text\"].str.len()\n",
    "filtered_df = filtered_df[~filtered_df[\"text_length\"].between(5, 29)].drop(columns=[\"text_length\"])\n",
    "\n",
    "\n",
    "filtered_df.to_csv(save_path, index=False)\n",
    "\n",
    "print(\"======================================\")\n",
    "print_length_stats(filtered_df, \"필터링 후 통계\")"
   ]
  }
 ],
 "metadata": {
  "kernelspec": {
   "display_name": "construct",
   "language": "python",
   "name": "python3"
  },
  "language_info": {
   "codemirror_mode": {
    "name": "ipython",
    "version": 3
   },
   "file_extension": ".py",
   "mimetype": "text/x-python",
   "name": "python",
   "nbconvert_exporter": "python",
   "pygments_lexer": "ipython3",
   "version": "3.11.4"
  }
 },
 "nbformat": 4,
 "nbformat_minor": 5
}
